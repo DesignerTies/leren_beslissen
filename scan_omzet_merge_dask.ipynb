{
 "cells": [
  {
   "cell_type": "code",
   "execution_count": 1,
   "metadata": {},
   "outputs": [],
   "source": [
    "import dask.dataframe as dd\n",
    "import pandas as pd\n",
    "import glob\n",
    "import os"
   ]
  },
  {
   "cell_type": "code",
   "execution_count": 2,
   "metadata": {},
   "outputs": [
    {
     "data": {
      "text/html": [
       "<div>\n",
       "<style scoped>\n",
       "    .dataframe tbody tr th:only-of-type {\n",
       "        vertical-align: middle;\n",
       "    }\n",
       "\n",
       "    .dataframe tbody tr th {\n",
       "        vertical-align: top;\n",
       "    }\n",
       "\n",
       "    .dataframe thead th {\n",
       "        text-align: right;\n",
       "    }\n",
       "</style>\n",
       "<table border=\"1\" class=\"dataframe\">\n",
       "  <thead>\n",
       "    <tr style=\"text-align: right;\">\n",
       "      <th></th>\n",
       "      <th>Datum</th>\n",
       "      <th>Product</th>\n",
       "      <th>Aantal * prijs</th>\n",
       "    </tr>\n",
       "  </thead>\n",
       "  <tbody>\n",
       "    <tr>\n",
       "      <th>0</th>\n",
       "      <td>29-09-2022 18:54</td>\n",
       "      <td>Too late - Rush Hour</td>\n",
       "      <td>50.0</td>\n",
       "    </tr>\n",
       "    <tr>\n",
       "      <th>1</th>\n",
       "      <td>29-09-2022 18:54</td>\n",
       "      <td>Shot tequila</td>\n",
       "      <td>9.0</td>\n",
       "    </tr>\n",
       "    <tr>\n",
       "      <th>2</th>\n",
       "      <td>29-09-2022 18:54</td>\n",
       "      <td>Heineken</td>\n",
       "      <td>7.0</td>\n",
       "    </tr>\n",
       "    <tr>\n",
       "      <th>3</th>\n",
       "      <td>29-09-2022 18:54</td>\n",
       "      <td>Recycle munt</td>\n",
       "      <td>5.0</td>\n",
       "    </tr>\n",
       "    <tr>\n",
       "      <th>4</th>\n",
       "      <td>29-09-2022 18:54</td>\n",
       "      <td>Buitenlands mix</td>\n",
       "      <td>8.5</td>\n",
       "    </tr>\n",
       "  </tbody>\n",
       "</table>\n",
       "</div>"
      ],
      "text/plain": [
       "              Datum               Product  Aantal * prijs\n",
       "0  29-09-2022 18:54  Too late - Rush Hour            50.0\n",
       "1  29-09-2022 18:54         Shot tequila              9.0\n",
       "2  29-09-2022 18:54             Heineken              7.0\n",
       "3  29-09-2022 18:54          Recycle munt             5.0\n",
       "4  29-09-2022 18:54       Buitenlands mix             8.5"
      ]
     },
     "execution_count": 2,
     "metadata": {},
     "output_type": "execute_result"
    }
   ],
   "source": [
    "bar_data_file = './data_cleaned/merged_cleaned_data.csv'\n",
    "\n",
    "bar_df = dd.read_csv(bar_data_file)\n",
    "\n",
    "bar_df.head()"
   ]
  },
  {
   "cell_type": "code",
   "execution_count": 3,
   "metadata": {},
   "outputs": [
    {
     "data": {
      "text/html": [
       "<div>\n",
       "<style scoped>\n",
       "    .dataframe tbody tr th:only-of-type {\n",
       "        vertical-align: middle;\n",
       "    }\n",
       "\n",
       "    .dataframe tbody tr th {\n",
       "        vertical-align: top;\n",
       "    }\n",
       "\n",
       "    .dataframe thead th {\n",
       "        text-align: right;\n",
       "    }\n",
       "</style>\n",
       "<table border=\"1\" class=\"dataframe\">\n",
       "  <thead>\n",
       "    <tr style=\"text-align: right;\">\n",
       "      <th></th>\n",
       "      <th>first_event_date_start</th>\n",
       "      <th>last_event_date_end</th>\n",
       "    </tr>\n",
       "  </thead>\n",
       "  <tbody>\n",
       "    <tr>\n",
       "      <th>0</th>\n",
       "      <td>2024-07-28 14:00:00</td>\n",
       "      <td>2024-07-28 23:00:00</td>\n",
       "    </tr>\n",
       "    <tr>\n",
       "      <th>1</th>\n",
       "      <td>2024-07-28 14:00:00</td>\n",
       "      <td>2024-07-28 23:00:00</td>\n",
       "    </tr>\n",
       "    <tr>\n",
       "      <th>2</th>\n",
       "      <td>2024-07-28 14:00:00</td>\n",
       "      <td>2024-07-28 23:00:00</td>\n",
       "    </tr>\n",
       "    <tr>\n",
       "      <th>3</th>\n",
       "      <td>2024-07-28 14:00:00</td>\n",
       "      <td>2024-07-28 23:00:00</td>\n",
       "    </tr>\n",
       "    <tr>\n",
       "      <th>4</th>\n",
       "      <td>2024-07-28 14:00:00</td>\n",
       "      <td>2024-07-28 23:00:00</td>\n",
       "    </tr>\n",
       "  </tbody>\n",
       "</table>\n",
       "</div>"
      ],
      "text/plain": [
       "  first_event_date_start  last_event_date_end\n",
       "0    2024-07-28 14:00:00  2024-07-28 23:00:00\n",
       "1    2024-07-28 14:00:00  2024-07-28 23:00:00\n",
       "2    2024-07-28 14:00:00  2024-07-28 23:00:00\n",
       "3    2024-07-28 14:00:00  2024-07-28 23:00:00\n",
       "4    2024-07-28 14:00:00  2024-07-28 23:00:00"
      ]
     },
     "execution_count": 3,
     "metadata": {},
     "output_type": "execute_result"
    }
   ],
   "source": [
    "scan_data_file = './data_output/ticket_concat.csv'\n",
    "\n",
    "scan_df = dd.read_csv(scan_data_file, usecols=['first_event_date_start', 'last_event_date_end'])\n",
    "scan_df.head()"
   ]
  },
  {
   "cell_type": "code",
   "execution_count": 4,
   "metadata": {},
   "outputs": [],
   "source": [
    "bar_df['datum_datum'] = dd.to_datetime(bar_df['Datum'], format='%d-%m-%Y %H:%M', dayfirst=True).dt.date\n",
    "scan_df['datum_datum'] = dd.to_datetime(scan_df['first_event_date_start']).dt.date"
   ]
  },
  {
   "cell_type": "code",
   "execution_count": null,
   "metadata": {},
   "outputs": [],
   "source": [
    "merged_df = dd.merge(bar_df, scan_df, on='datum_datum')"
   ]
  },
  {
   "cell_type": "code",
   "execution_count": 6,
   "metadata": {},
   "outputs": [
    {
     "ename": "",
     "evalue": "",
     "output_type": "error",
     "traceback": [
      "\u001b[1;31mThe Kernel crashed while executing code in the current cell or a previous cell. \n",
      "\u001b[1;31mPlease review the code in the cell(s) to identify a possible cause of the failure. \n",
      "\u001b[1;31mClick <a href='https://aka.ms/vscodeJupyterKernelCrash'>here</a> for more info. \n",
      "\u001b[1;31mView Jupyter <a href='command:jupyter.viewOutput'>log</a> for further details."
     ]
    }
   ],
   "source": [
    "merged_df.head(5, compute=True)"
   ]
  },
  {
   "cell_type": "code",
   "execution_count": 7,
   "metadata": {},
   "outputs": [
    {
     "ename": "",
     "evalue": "",
     "output_type": "error",
     "traceback": [
      "\u001b[1;31mThe Kernel crashed while executing code in the current cell or a previous cell. \n",
      "\u001b[1;31mPlease review the code in the cell(s) to identify a possible cause of the failure. \n",
      "\u001b[1;31mClick <a href='https://aka.ms/vscodeJupyterKernelCrash'>here</a> for more info. \n",
      "\u001b[1;31mView Jupyter <a href='command:jupyter.viewOutput'>log</a> for further details."
     ]
    }
   ],
   "source": [
    "try:\n",
    "    # Save in a directory structure\n",
    "    merged_df.to_parquet(\n",
    "        'data_output/merged_scan_bar',\n",
    "        engine='pyarrow',\n",
    "        compression='snappy',\n",
    "        write_index=False,\n",
    "        partition_size='64MB'\n",
    "    )\n",
    "    print(\"Successfully saved merged data to parquet format\")\n",
    "    \n",
    "    # To safely peek at the data, load just one partition\n",
    "    first_partition = dd.read_parquet('data_output/merged_scan_bar').partitions[0]\n",
    "    print(\"\\nFirst few rows of first partition:\")\n",
    "    print(first_partition.head())\n",
    "    \n",
    "except Exception as e:\n",
    "    print(f\"An error occurred: {str(e)}\")"
   ]
  }
 ],
 "metadata": {
  "kernelspec": {
   "display_name": "leren",
   "language": "python",
   "name": "python3"
  },
  "language_info": {
   "codemirror_mode": {
    "name": "ipython",
    "version": 3
   },
   "file_extension": ".py",
   "mimetype": "text/x-python",
   "name": "python",
   "nbconvert_exporter": "python",
   "pygments_lexer": "ipython3",
   "version": "3.12.2"
  }
 },
 "nbformat": 4,
 "nbformat_minor": 2
}
