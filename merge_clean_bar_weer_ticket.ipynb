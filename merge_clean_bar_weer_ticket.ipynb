{
 "cells": [
  {
   "cell_type": "code",
   "execution_count": 5,
   "metadata": {},
   "outputs": [],
   "source": [
    "import pandas as pd"
   ]
  },
  {
   "cell_type": "code",
   "execution_count": 6,
   "metadata": {},
   "outputs": [
    {
     "data": {
      "text/plain": [
       "(907, 5)"
      ]
     },
     "execution_count": 6,
     "metadata": {},
     "output_type": "execute_result"
    }
   ],
   "source": [
    "df_weer = pd.read_excel('./weerdata.xlsx', parse_dates=['Datum'], usecols=['Datum', 'Tmax', 'Tmin', 'Neerslag', 'Max Windstoot'])\n",
    "\n",
    "df_weer.shape"
   ]
  },
  {
   "cell_type": "code",
   "execution_count": 7,
   "metadata": {},
   "outputs": [
    {
     "data": {
      "text/plain": [
       "(1297232, 2)"
      ]
     },
     "execution_count": 7,
     "metadata": {},
     "output_type": "execute_result"
    }
   ],
   "source": [
    "df_bar = pd.read_csv('./data_cleaned/merged_cleaned_data.csv', parse_dates=['Datum'], dayfirst=True, usecols=['Datum', 'Aantal * prijs'])\n",
    "df_bar = df_bar.rename(columns={\"Aantal * prijs\": 'Omzet'})\n",
    "\n",
    "df_bar.shape"
   ]
  },
  {
   "cell_type": "code",
   "execution_count": 8,
   "metadata": {},
   "outputs": [
    {
     "data": {
      "text/plain": [
       "(3401, 3)"
      ]
     },
     "execution_count": 8,
     "metadata": {},
     "output_type": "execute_result"
    }
   ],
   "source": [
    "# Group df_bar by hour to prevent too many combinations of rows when merged\n",
    "df_bar['Datum_uur'] = df_bar['Datum'].dt.floor('h')\n",
    "df_hourly = df_bar.groupby('Datum_uur')['Omzet'].sum().reset_index()\n",
    "df_hourly['Datum'] = pd.to_datetime(df_hourly['Datum_uur'].dt.date)\n",
    "\n",
    "df_hourly.shape"
   ]
  },
  {
   "cell_type": "code",
   "execution_count": 9,
   "metadata": {},
   "outputs": [],
   "source": [
    "df_merged_omzet_weer = pd.merge(df_hourly, df_weer, on='Datum', how='left')"
   ]
  },
  {
   "cell_type": "code",
   "execution_count": 10,
   "metadata": {},
   "outputs": [
    {
     "data": {
      "text/html": [
       "<div>\n",
       "<style scoped>\n",
       "    .dataframe tbody tr th:only-of-type {\n",
       "        vertical-align: middle;\n",
       "    }\n",
       "\n",
       "    .dataframe tbody tr th {\n",
       "        vertical-align: top;\n",
       "    }\n",
       "\n",
       "    .dataframe thead th {\n",
       "        text-align: right;\n",
       "    }\n",
       "</style>\n",
       "<table border=\"1\" class=\"dataframe\">\n",
       "  <thead>\n",
       "    <tr style=\"text-align: right;\">\n",
       "      <th></th>\n",
       "      <th>event_category</th>\n",
       "      <th>first_event_date_start</th>\n",
       "      <th>last_event_date_end</th>\n",
       "      <th>first_scanned_at</th>\n",
       "    </tr>\n",
       "  </thead>\n",
       "  <tbody>\n",
       "    <tr>\n",
       "      <th>0</th>\n",
       "      <td>festival</td>\n",
       "      <td>2024-07-28 14:00:00</td>\n",
       "      <td>2024-07-28 23:00:00</td>\n",
       "      <td>NaN</td>\n",
       "    </tr>\n",
       "    <tr>\n",
       "      <th>1</th>\n",
       "      <td>festival</td>\n",
       "      <td>2024-07-28 14:00:00</td>\n",
       "      <td>2024-07-28 23:00:00</td>\n",
       "      <td>NaN</td>\n",
       "    </tr>\n",
       "    <tr>\n",
       "      <th>2</th>\n",
       "      <td>festival</td>\n",
       "      <td>2024-07-28 14:00:00</td>\n",
       "      <td>2024-07-28 23:00:00</td>\n",
       "      <td>NaN</td>\n",
       "    </tr>\n",
       "    <tr>\n",
       "      <th>3</th>\n",
       "      <td>festival</td>\n",
       "      <td>2024-07-28 14:00:00</td>\n",
       "      <td>2024-07-28 23:00:00</td>\n",
       "      <td>NaN</td>\n",
       "    </tr>\n",
       "    <tr>\n",
       "      <th>4</th>\n",
       "      <td>festival</td>\n",
       "      <td>2024-07-28 14:00:00</td>\n",
       "      <td>2024-07-28 23:00:00</td>\n",
       "      <td>NaN</td>\n",
       "    </tr>\n",
       "  </tbody>\n",
       "</table>\n",
       "</div>"
      ],
      "text/plain": [
       "  event_category first_event_date_start last_event_date_end first_scanned_at\n",
       "0       festival    2024-07-28 14:00:00 2024-07-28 23:00:00              NaN\n",
       "1       festival    2024-07-28 14:00:00 2024-07-28 23:00:00              NaN\n",
       "2       festival    2024-07-28 14:00:00 2024-07-28 23:00:00              NaN\n",
       "3       festival    2024-07-28 14:00:00 2024-07-28 23:00:00              NaN\n",
       "4       festival    2024-07-28 14:00:00 2024-07-28 23:00:00              NaN"
      ]
     },
     "execution_count": 10,
     "metadata": {},
     "output_type": "execute_result"
    }
   ],
   "source": [
    "df_ticket = pd.read_csv('./data_output/ticket_concat_goed.csv', parse_dates=['first_event_date_start', 'last_event_date_end'])\n",
    "\n",
    "df_ticket.head()"
   ]
  },
  {
   "cell_type": "code",
   "execution_count": 16,
   "metadata": {},
   "outputs": [
    {
     "data": {
      "text/plain": [
       "(252476, 4)"
      ]
     },
     "execution_count": 16,
     "metadata": {},
     "output_type": "execute_result"
    }
   ],
   "source": [
    "df_ticket.shape"
   ]
  },
  {
   "cell_type": "code",
   "execution_count": 11,
   "metadata": {},
   "outputs": [
    {
     "data": {
      "text/html": [
       "<div>\n",
       "<style scoped>\n",
       "    .dataframe tbody tr th:only-of-type {\n",
       "        vertical-align: middle;\n",
       "    }\n",
       "\n",
       "    .dataframe tbody tr th {\n",
       "        vertical-align: top;\n",
       "    }\n",
       "\n",
       "    .dataframe thead th {\n",
       "        text-align: right;\n",
       "    }\n",
       "</style>\n",
       "<table border=\"1\" class=\"dataframe\">\n",
       "  <thead>\n",
       "    <tr style=\"text-align: right;\">\n",
       "      <th></th>\n",
       "      <th>first_event_date_start</th>\n",
       "      <th>aantal_tickets</th>\n",
       "      <th>aantal_opgedaagd</th>\n",
       "      <th>Datum</th>\n",
       "    </tr>\n",
       "  </thead>\n",
       "  <tbody>\n",
       "    <tr>\n",
       "      <th>0</th>\n",
       "      <td>2022-02-26 14:00:00</td>\n",
       "      <td>605</td>\n",
       "      <td>425</td>\n",
       "      <td>2022-02-26</td>\n",
       "    </tr>\n",
       "    <tr>\n",
       "      <th>1</th>\n",
       "      <td>2022-03-05 16:00:00</td>\n",
       "      <td>1785</td>\n",
       "      <td>787</td>\n",
       "      <td>2022-03-05</td>\n",
       "    </tr>\n",
       "    <tr>\n",
       "      <th>2</th>\n",
       "      <td>2022-03-06 14:00:00</td>\n",
       "      <td>156</td>\n",
       "      <td>100</td>\n",
       "      <td>2022-03-06</td>\n",
       "    </tr>\n",
       "    <tr>\n",
       "      <th>3</th>\n",
       "      <td>2022-03-12 16:00:00</td>\n",
       "      <td>481</td>\n",
       "      <td>420</td>\n",
       "      <td>2022-03-12</td>\n",
       "    </tr>\n",
       "    <tr>\n",
       "      <th>4</th>\n",
       "      <td>2022-03-13 14:00:00</td>\n",
       "      <td>140</td>\n",
       "      <td>94</td>\n",
       "      <td>2022-03-13</td>\n",
       "    </tr>\n",
       "  </tbody>\n",
       "</table>\n",
       "</div>"
      ],
      "text/plain": [
       "  first_event_date_start  aantal_tickets  aantal_opgedaagd      Datum\n",
       "0    2022-02-26 14:00:00             605               425 2022-02-26\n",
       "1    2022-03-05 16:00:00            1785               787 2022-03-05\n",
       "2    2022-03-06 14:00:00             156               100 2022-03-06\n",
       "3    2022-03-12 16:00:00             481               420 2022-03-12\n",
       "4    2022-03-13 14:00:00             140                94 2022-03-13"
      ]
     },
     "execution_count": 11,
     "metadata": {},
     "output_type": "execute_result"
    }
   ],
   "source": [
    "df_ticket_grouped = (df_ticket.groupby('first_event_date_start').agg(aantal_tickets=('first_event_date_start', 'size'), aantal_opgedaagd=('first_scanned_at', lambda x: x.notna().sum())).reset_index())\n",
    "\n",
    "df_ticket_grouped['Datum'] = pd.to_datetime(df_ticket_grouped['first_event_date_start'].dt.date)\n",
    "\n",
    "df_ticket_grouped.head()"
   ]
  },
  {
   "cell_type": "code",
   "execution_count": 15,
   "metadata": {},
   "outputs": [
    {
     "data": {
      "text/plain": [
       "(230, 4)"
      ]
     },
     "execution_count": 15,
     "metadata": {},
     "output_type": "execute_result"
    }
   ],
   "source": [
    "df_ticket_grouped.shape"
   ]
  },
  {
   "cell_type": "code",
   "execution_count": 12,
   "metadata": {},
   "outputs": [
    {
     "data": {
      "text/html": [
       "<div>\n",
       "<style scoped>\n",
       "    .dataframe tbody tr th:only-of-type {\n",
       "        vertical-align: middle;\n",
       "    }\n",
       "\n",
       "    .dataframe tbody tr th {\n",
       "        vertical-align: top;\n",
       "    }\n",
       "\n",
       "    .dataframe thead th {\n",
       "        text-align: right;\n",
       "    }\n",
       "</style>\n",
       "<table border=\"1\" class=\"dataframe\">\n",
       "  <thead>\n",
       "    <tr style=\"text-align: right;\">\n",
       "      <th></th>\n",
       "      <th>Datum_uur</th>\n",
       "      <th>Omzet</th>\n",
       "      <th>Datum</th>\n",
       "      <th>Tmax</th>\n",
       "      <th>Tmin</th>\n",
       "      <th>Neerslag</th>\n",
       "      <th>Max Windstoot</th>\n",
       "      <th>first_event_date_start</th>\n",
       "      <th>aantal_tickets</th>\n",
       "      <th>aantal_opgedaagd</th>\n",
       "    </tr>\n",
       "  </thead>\n",
       "  <tbody>\n",
       "    <tr>\n",
       "      <th>28</th>\n",
       "      <td>2022-07-09 14:00:00</td>\n",
       "      <td>9.00</td>\n",
       "      <td>2022-07-09</td>\n",
       "      <td>21.6 °C</td>\n",
       "      <td>15.3 °C</td>\n",
       "      <td>0,0 mm</td>\n",
       "      <td>30.6 km/u</td>\n",
       "      <td>2022-07-09 16:00:00</td>\n",
       "      <td>1319.0</td>\n",
       "      <td>962.0</td>\n",
       "    </tr>\n",
       "    <tr>\n",
       "      <th>29</th>\n",
       "      <td>2022-07-09 16:00:00</td>\n",
       "      <td>182.35</td>\n",
       "      <td>2022-07-09</td>\n",
       "      <td>21.6 °C</td>\n",
       "      <td>15.3 °C</td>\n",
       "      <td>0,0 mm</td>\n",
       "      <td>30.6 km/u</td>\n",
       "      <td>2022-07-09 16:00:00</td>\n",
       "      <td>1319.0</td>\n",
       "      <td>962.0</td>\n",
       "    </tr>\n",
       "    <tr>\n",
       "      <th>30</th>\n",
       "      <td>2022-07-09 17:00:00</td>\n",
       "      <td>767.10</td>\n",
       "      <td>2022-07-09</td>\n",
       "      <td>21.6 °C</td>\n",
       "      <td>15.3 °C</td>\n",
       "      <td>0,0 mm</td>\n",
       "      <td>30.6 km/u</td>\n",
       "      <td>2022-07-09 16:00:00</td>\n",
       "      <td>1319.0</td>\n",
       "      <td>962.0</td>\n",
       "    </tr>\n",
       "    <tr>\n",
       "      <th>31</th>\n",
       "      <td>2022-07-09 18:00:00</td>\n",
       "      <td>1933.70</td>\n",
       "      <td>2022-07-09</td>\n",
       "      <td>21.6 °C</td>\n",
       "      <td>15.3 °C</td>\n",
       "      <td>0,0 mm</td>\n",
       "      <td>30.6 km/u</td>\n",
       "      <td>2022-07-09 16:00:00</td>\n",
       "      <td>1319.0</td>\n",
       "      <td>962.0</td>\n",
       "    </tr>\n",
       "    <tr>\n",
       "      <th>32</th>\n",
       "      <td>2022-07-09 19:00:00</td>\n",
       "      <td>2567.40</td>\n",
       "      <td>2022-07-09</td>\n",
       "      <td>21.6 °C</td>\n",
       "      <td>15.3 °C</td>\n",
       "      <td>0,0 mm</td>\n",
       "      <td>30.6 km/u</td>\n",
       "      <td>2022-07-09 16:00:00</td>\n",
       "      <td>1319.0</td>\n",
       "      <td>962.0</td>\n",
       "    </tr>\n",
       "  </tbody>\n",
       "</table>\n",
       "</div>"
      ],
      "text/plain": [
       "             Datum_uur    Omzet      Datum     Tmax     Tmin Neerslag  \\\n",
       "28 2022-07-09 14:00:00     9.00 2022-07-09  21.6 °C  15.3 °C   0,0 mm   \n",
       "29 2022-07-09 16:00:00   182.35 2022-07-09  21.6 °C  15.3 °C   0,0 mm   \n",
       "30 2022-07-09 17:00:00   767.10 2022-07-09  21.6 °C  15.3 °C   0,0 mm   \n",
       "31 2022-07-09 18:00:00  1933.70 2022-07-09  21.6 °C  15.3 °C   0,0 mm   \n",
       "32 2022-07-09 19:00:00  2567.40 2022-07-09  21.6 °C  15.3 °C   0,0 mm   \n",
       "\n",
       "   Max Windstoot first_event_date_start  aantal_tickets  aantal_opgedaagd  \n",
       "28     30.6 km/u    2022-07-09 16:00:00          1319.0             962.0  \n",
       "29     30.6 km/u    2022-07-09 16:00:00          1319.0             962.0  \n",
       "30     30.6 km/u    2022-07-09 16:00:00          1319.0             962.0  \n",
       "31     30.6 km/u    2022-07-09 16:00:00          1319.0             962.0  \n",
       "32     30.6 km/u    2022-07-09 16:00:00          1319.0             962.0  "
      ]
     },
     "execution_count": 12,
     "metadata": {},
     "output_type": "execute_result"
    }
   ],
   "source": [
    "df_merged_omzet_weer_ticket = pd.merge(df_merged_omzet_weer, df_ticket_grouped, on='Datum', how='left')\n",
    "\n",
    "df_merged_omzet_weer_ticket = df_merged_omzet_weer_ticket[df_merged_omzet_weer_ticket['first_event_date_start'].notnull()]\n",
    "\n",
    "df_merged_omzet_weer_ticket.head()"
   ]
  },
  {
   "cell_type": "code",
   "execution_count": 13,
   "metadata": {},
   "outputs": [
    {
     "data": {
      "text/plain": [
       "(2103, 10)"
      ]
     },
     "execution_count": 13,
     "metadata": {},
     "output_type": "execute_result"
    }
   ],
   "source": [
    "df_merged_omzet_weer_ticket.shape"
   ]
  },
  {
   "cell_type": "code",
   "execution_count": 14,
   "metadata": {},
   "outputs": [],
   "source": [
    "df_merged_omzet_weer_ticket.to_csv('./merged_omzet_weer_ticket.csv')"
   ]
  }
 ],
 "metadata": {
  "kernelspec": {
   "display_name": "leren",
   "language": "python",
   "name": "python3"
  },
  "language_info": {
   "codemirror_mode": {
    "name": "ipython",
    "version": 3
   },
   "file_extension": ".py",
   "mimetype": "text/x-python",
   "name": "python",
   "nbconvert_exporter": "python",
   "pygments_lexer": "ipython3",
   "version": "3.12.2"
  }
 },
 "nbformat": 4,
 "nbformat_minor": 2
}
