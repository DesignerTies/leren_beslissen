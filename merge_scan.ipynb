{
 "cells": [
  {
   "cell_type": "code",
   "execution_count": 1,
   "metadata": {},
   "outputs": [],
   "source": [
    "import pandas as pd\n",
    "import glob\n",
    "import os"
   ]
  },
  {
   "cell_type": "code",
   "execution_count": 2,
   "metadata": {},
   "outputs": [
    {
     "name": "stdout",
     "output_type": "stream",
     "text": [
      "Found CSV files: 40\n",
      "./scan_data/No Art ticket data.xlsx\n",
      "./scan_data/Multigroove ticket data.xlsx\n",
      "./scan_data/Everyday PPL ticket data.xlsx\n",
      "./scan_data/HMC ticket data.xlsx\n",
      "./scan_data/VBX ticket data.xlsx\n",
      "./scan_data/Sounds Familiar ticket data.xlsx\n",
      "./scan_data/Misc ticket data.xlsx\n",
      "./scan_data/Radio Radio ticket data.xlsx\n",
      "./scan_data/Zeezout ticket data.xlsx\n",
      "./scan_data/Palet ticket data.xlsx\n",
      "./scan_data/Guerilla ticket data.xlsx\n",
      "./scan_data/Die Rakete ticket data.xlsx\n",
      "./scan_data/Agrio club ticket data.xlsx\n",
      "./scan_data/Unwise ticket data.xlsx\n",
      "./scan_data/Disturbia ticket data.xlsx\n",
      "./scan_data/Frenzy ticket data.xlsx\n",
      "./scan_data/Bordello ticket data.xlsx\n",
      "./scan_data/From Nowhere ticket data.xlsx\n",
      "./scan_data/Kopjek ticket data.xlsx\n",
      "./scan_data/Ricardo Villalobos ticket data.xlsx\n",
      "./scan_data/LFE ticket data.xlsx\n",
      "./scan_data/Rush Hour ticket data.xlsx\n",
      "./scan_data/Sona ticket data.xlsx\n",
      "./scan_data/Juicy ticket data.xlsx\n",
      "./scan_data/King Siloh ticket data.xlsx\n",
      "./scan_data/Overbruggen ticket data.xlsx\n",
      "./scan_data/Isburning Dekmantel ticket data.xlsx\n",
      "./scan_data/Festimi ticket data.xlsx\n",
      "./scan_data/MBG ticket data.xlsx\n",
      "./scan_data/Spielraum ticket data.xlsx\n",
      "./scan_data/Make Your Transitions ticket data.xlsx\n",
      "./scan_data/Dekmantel ticket data.xlsx\n",
      "./scan_data/Undisclosed ticket data.xlsx\n",
      "./scan_data/Isburning ticket data.xlsx\n",
      "./scan_data/Pax-Romana ticket data.xlsx\n",
      "./scan_data/Orphic ticket data.xlsx\n",
      "./scan_data/Mad City ticket data.xlsx\n",
      "./scan_data/Ratherlost ticket data.xlsx\n",
      "./scan_data/Lofi eigen shows ticket data.xlsx\n",
      "./scan_data/Slapfunk ticket data.xlsx\n"
     ]
    }
   ],
   "source": [
    "folder_path = \"./scan_data\"\n",
    "\n",
    "# Get a list of all CSV files in the folder\n",
    "all_files = glob.glob(os.path.join(folder_path, \"*.xlsx\"))\n",
    "\n",
    "filtered_files = [f for f in all_files if 'ticket' in f]\n",
    "\n",
    "print(f\"Found CSV files: {len(filtered_files)}\")\n",
    "for file in filtered_files:\n",
    "    print(file)"
   ]
  },
  {
   "cell_type": "code",
   "execution_count": 6,
   "metadata": {},
   "outputs": [
    {
     "data": {
      "text/html": [
       "<div>\n",
       "<style scoped>\n",
       "    .dataframe tbody tr th:only-of-type {\n",
       "        vertical-align: middle;\n",
       "    }\n",
       "\n",
       "    .dataframe tbody tr th {\n",
       "        vertical-align: top;\n",
       "    }\n",
       "\n",
       "    .dataframe thead th {\n",
       "        text-align: right;\n",
       "    }\n",
       "</style>\n",
       "<table border=\"1\" class=\"dataframe\">\n",
       "  <thead>\n",
       "    <tr style=\"text-align: right;\">\n",
       "      <th></th>\n",
       "      <th>event_category</th>\n",
       "      <th>first_event_date_start</th>\n",
       "      <th>last_event_date_end</th>\n",
       "      <th>first_scanned_at</th>\n",
       "    </tr>\n",
       "  </thead>\n",
       "  <tbody>\n",
       "    <tr>\n",
       "      <th>0</th>\n",
       "      <td>festival</td>\n",
       "      <td>2024-07-28 14:00:00</td>\n",
       "      <td>2024-07-28 23:00:00</td>\n",
       "      <td>NaN</td>\n",
       "    </tr>\n",
       "    <tr>\n",
       "      <th>1</th>\n",
       "      <td>festival</td>\n",
       "      <td>2024-07-28 14:00:00</td>\n",
       "      <td>2024-07-28 23:00:00</td>\n",
       "      <td>NaN</td>\n",
       "    </tr>\n",
       "    <tr>\n",
       "      <th>2</th>\n",
       "      <td>festival</td>\n",
       "      <td>2024-07-28 14:00:00</td>\n",
       "      <td>2024-07-28 23:00:00</td>\n",
       "      <td>NaN</td>\n",
       "    </tr>\n",
       "    <tr>\n",
       "      <th>3</th>\n",
       "      <td>festival</td>\n",
       "      <td>2024-07-28 14:00:00</td>\n",
       "      <td>2024-07-28 23:00:00</td>\n",
       "      <td>NaN</td>\n",
       "    </tr>\n",
       "    <tr>\n",
       "      <th>4</th>\n",
       "      <td>festival</td>\n",
       "      <td>2024-07-28 14:00:00</td>\n",
       "      <td>2024-07-28 23:00:00</td>\n",
       "      <td>NaN</td>\n",
       "    </tr>\n",
       "  </tbody>\n",
       "</table>\n",
       "</div>"
      ],
      "text/plain": [
       "  event_category first_event_date_start  last_event_date_end first_scanned_at\n",
       "0       festival    2024-07-28 14:00:00  2024-07-28 23:00:00              NaN\n",
       "1       festival    2024-07-28 14:00:00  2024-07-28 23:00:00              NaN\n",
       "2       festival    2024-07-28 14:00:00  2024-07-28 23:00:00              NaN\n",
       "3       festival    2024-07-28 14:00:00  2024-07-28 23:00:00              NaN\n",
       "4       festival    2024-07-28 14:00:00  2024-07-28 23:00:00              NaN"
      ]
     },
     "execution_count": 6,
     "metadata": {},
     "output_type": "execute_result"
    }
   ],
   "source": [
    "df_list = []\n",
    "\n",
    "for f in filtered_files:\n",
    "  df_temp = pd.read_excel(f, usecols=['event_category', 'first_event_date_start', 'last_event_date_end', 'first_scanned_at'])\n",
    "  df_list.append(df_temp)\n",
    "\n",
    "merged_df = pd.concat(df_list, ignore_index=True)\n",
    "\n",
    "merged_df.head()"
   ]
  },
  {
   "cell_type": "code",
   "execution_count": 7,
   "metadata": {},
   "outputs": [
    {
     "name": "stdout",
     "output_type": "stream",
     "text": [
      "Number of missing values:\n",
      "event_category                0\n",
      "first_event_date_start     1028\n",
      "last_event_date_end        1028\n",
      "first_scanned_at          66088\n",
      "dtype: int64\n"
     ]
    }
   ],
   "source": [
    "print(\"Number of missing values:\")\n",
    "print(merged_df.isna().sum())"
   ]
  },
  {
   "cell_type": "code",
   "execution_count": 8,
   "metadata": {},
   "outputs": [
    {
     "name": "stdout",
     "output_type": "stream",
     "text": [
      "Number of missing values after cleaning:\n",
      "event_category                0\n",
      "first_event_date_start        0\n",
      "last_event_date_end           0\n",
      "first_scanned_at          65688\n",
      "dtype: int64\n"
     ]
    }
   ],
   "source": [
    "cleaned_df = merged_df.dropna(subset=['first_event_date_start', 'last_event_date_end'])\n",
    "\n",
    "print(\"Number of missing values after cleaning:\")\n",
    "print(cleaned_df.isna().sum())"
   ]
  },
  {
   "cell_type": "code",
   "execution_count": 9,
   "metadata": {},
   "outputs": [],
   "source": [
    "output_path = './data_output/ticket_concat_goed.csv'\n",
    "\n",
    "cleaned_df.to_csv(output_path, index=False)"
   ]
  }
 ],
 "metadata": {
  "kernelspec": {
   "display_name": "leren",
   "language": "python",
   "name": "python3"
  },
  "language_info": {
   "codemirror_mode": {
    "name": "ipython",
    "version": 3
   },
   "file_extension": ".py",
   "mimetype": "text/x-python",
   "name": "python",
   "nbconvert_exporter": "python",
   "pygments_lexer": "ipython3",
   "version": "3.12.2"
  }
 },
 "nbformat": 4,
 "nbformat_minor": 2
}
