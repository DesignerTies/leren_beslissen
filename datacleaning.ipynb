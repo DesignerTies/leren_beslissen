{
 "cells": [
  {
   "cell_type": "code",
   "execution_count": 2,
   "metadata": {},
   "outputs": [],
   "source": [
    "import pandas as pd\n",
    "import glob\n",
    "import os\n"
   ]
  },
  {
   "cell_type": "code",
   "execution_count": 3,
   "metadata": {},
   "outputs": [
    {
     "name": "stdout",
     "output_type": "stream",
     "text": [
      "Found CSV files:\n",
      "/Users/jetzeeveleens/Downloads/bardata/export_ruwe_transactiegegevens 2022-09.csv\n",
      "/Users/jetzeeveleens/Downloads/bardata/export_ruwe_transactiegegevens 2022-08.csv\n",
      "/Users/jetzeeveleens/Downloads/bardata/export_ruwe_transactiegegevens 2023-07.csv\n",
      "/Users/jetzeeveleens/Downloads/bardata/export_ruwe_transactiegegevens 2023-06.csv\n",
      "/Users/jetzeeveleens/Downloads/bardata/export_ruwe_transactiegegevens 2023-12.csv\n",
      "/Users/jetzeeveleens/Downloads/bardata/export_ruwe_transactiegegevens 2023-04.csv\n",
      "/Users/jetzeeveleens/Downloads/bardata/export_ruwe_transactiegegevens 2023-10.csv\n",
      "/Users/jetzeeveleens/Downloads/bardata/export_ruwe_transactiegegevens 2023-11.csv\n",
      "/Users/jetzeeveleens/Downloads/bardata/export_ruwe_transactiegegevens 2023-05.csv\n",
      "/Users/jetzeeveleens/Downloads/bardata/export_ruwe_transactiegegevens 2023-01.csv\n",
      "/Users/jetzeeveleens/Downloads/bardata/export_ruwe_transactiegegevens 2024-08.csv\n",
      "/Users/jetzeeveleens/Downloads/bardata/export_ruwe_transactiegegevens 2024-09.csv\n",
      "/Users/jetzeeveleens/Downloads/bardata/export_ruwe_transactiegegevens 2023-02.csv\n",
      "/Users/jetzeeveleens/Downloads/bardata/export_ruwe_transactiegegevens 2023-03.csv\n",
      "/Users/jetzeeveleens/Downloads/bardata/export_ruwe_transactiegegevens 2024-07.csv\n",
      "/Users/jetzeeveleens/Downloads/bardata/export_ruwe_transactiegegevens 2024-12.csv\n",
      "/Users/jetzeeveleens/Downloads/bardata/export_ruwe_transactiegegevens 2024-06.csv\n",
      "/Users/jetzeeveleens/Downloads/bardata/export_ruwe_transactiegegevens 2024-10.csv\n",
      "/Users/jetzeeveleens/Downloads/bardata/export_ruwe_transactiegegevens 2024-04.csv\n",
      "/Users/jetzeeveleens/Downloads/bardata/export_ruwe_transactiegegevens 2024-05.csv\n",
      "/Users/jetzeeveleens/Downloads/bardata/export_ruwe_transactiegegevens 2024-11.csv\n",
      "/Users/jetzeeveleens/Downloads/bardata/export_ruwe_transactiegegevens 2024-01.csv\n",
      "/Users/jetzeeveleens/Downloads/bardata/export_ruwe_transactiegegevens 2023-08.csv\n",
      "/Users/jetzeeveleens/Downloads/bardata/export_ruwe_transactiegegevens 2023-09.csv\n",
      "/Users/jetzeeveleens/Downloads/bardata/export_ruwe_transactiegegevens 2024-02.csv\n",
      "/Users/jetzeeveleens/Downloads/bardata/export_ruwe_transactiegegevens 2024-03.csv\n",
      "/Users/jetzeeveleens/Downloads/bardata/export_ruwe_transactiegegevens 2022-11.csv\n",
      "/Users/jetzeeveleens/Downloads/bardata/export_ruwe_transactiegegevens 2022-10.csv\n",
      "/Users/jetzeeveleens/Downloads/bardata/export_ruwe_transactiegegevens 2022-12.csv\n",
      "/Users/jetzeeveleens/Downloads/bardata/export_ruwe_transactiegegevens 2022-07.csv\n"
     ]
    }
   ],
   "source": [
    "# Replace this with your actual folder path\n",
    "folder_path = \"./bardata\"\n",
    "\n",
    "# Get a list of all CSV files in the folder\n",
    "csv_files = glob.glob(os.path.join(folder_path, \"*.csv\"))\n",
    "\n",
    "print(\"Found CSV files:\")\n",
    "for file in csv_files:\n",
    "    print(file)\n"
   ]
  },
  {
   "cell_type": "code",
   "execution_count": 4,
   "metadata": {},
   "outputs": [
    {
     "name": "stdout",
     "output_type": "stream",
     "text": [
      "Merged DataFrame preview:\n"
     ]
    },
    {
     "data": {
      "text/html": [
       "<div>\n",
       "<style scoped>\n",
       "    .dataframe tbody tr th:only-of-type {\n",
       "        vertical-align: middle;\n",
       "    }\n",
       "\n",
       "    .dataframe tbody tr th {\n",
       "        vertical-align: top;\n",
       "    }\n",
       "\n",
       "    .dataframe thead th {\n",
       "        text-align: right;\n",
       "    }\n",
       "</style>\n",
       "<table border=\"1\" class=\"dataframe\">\n",
       "  <thead>\n",
       "    <tr style=\"text-align: right;\">\n",
       "      <th></th>\n",
       "      <th>Datum</th>\n",
       "      <th>Product</th>\n",
       "      <th>Aantal * prijs</th>\n",
       "    </tr>\n",
       "  </thead>\n",
       "  <tbody>\n",
       "    <tr>\n",
       "      <th>0</th>\n",
       "      <td>29-09-2022 18:54</td>\n",
       "      <td>Too late - Rush Hour</td>\n",
       "      <td>50.0</td>\n",
       "    </tr>\n",
       "    <tr>\n",
       "      <th>1</th>\n",
       "      <td>29-09-2022 18:54</td>\n",
       "      <td>Shot tequila</td>\n",
       "      <td>9.0</td>\n",
       "    </tr>\n",
       "    <tr>\n",
       "      <th>2</th>\n",
       "      <td>29-09-2022 18:54</td>\n",
       "      <td>Heineken</td>\n",
       "      <td>7.0</td>\n",
       "    </tr>\n",
       "    <tr>\n",
       "      <th>3</th>\n",
       "      <td>29-09-2022 18:54</td>\n",
       "      <td>Recycle munt</td>\n",
       "      <td>5.0</td>\n",
       "    </tr>\n",
       "    <tr>\n",
       "      <th>4</th>\n",
       "      <td>29-09-2022 18:54</td>\n",
       "      <td>Buitenlands mix</td>\n",
       "      <td>8.5</td>\n",
       "    </tr>\n",
       "  </tbody>\n",
       "</table>\n",
       "</div>"
      ],
      "text/plain": [
       "              Datum               Product  Aantal * prijs\n",
       "0  29-09-2022 18:54  Too late - Rush Hour            50.0\n",
       "1  29-09-2022 18:54         Shot tequila              9.0\n",
       "2  29-09-2022 18:54             Heineken              7.0\n",
       "3  29-09-2022 18:54          Recycle munt             5.0\n",
       "4  29-09-2022 18:54       Buitenlands mix             8.5"
      ]
     },
     "execution_count": 4,
     "metadata": {},
     "output_type": "execute_result"
    }
   ],
   "source": [
    "# List to hold individual DataFrames\n",
    "df_list = []\n",
    "\n",
    "for file in csv_files:\n",
    "    # Read only the columns you want using sep=';' and the given encoding.\n",
    "    df_temp = pd.read_csv(file, sep=';', encoding='utf-8', usecols=[\"Aantal * prijs\", \"Datum\", \"Product\"])\n",
    "    df_list.append(df_temp)\n",
    "\n",
    "# Concatenate all DataFrames into a single DataFrame\n",
    "merged_df = pd.concat(df_list, ignore_index=True)\n",
    "\n",
    "# Display the first few rows to verify\n",
    "print(\"Merged DataFrame preview:\")\n",
    "merged_df.head()\n"
   ]
  },
  {
   "cell_type": "code",
   "execution_count": 5,
   "metadata": {},
   "outputs": [
    {
     "name": "stdout",
     "output_type": "stream",
     "text": [
      "Cleaned DataFrame preview (no negative 'Aantal * prijs'):\n"
     ]
    },
    {
     "data": {
      "text/html": [
       "<div>\n",
       "<style scoped>\n",
       "    .dataframe tbody tr th:only-of-type {\n",
       "        vertical-align: middle;\n",
       "    }\n",
       "\n",
       "    .dataframe tbody tr th {\n",
       "        vertical-align: top;\n",
       "    }\n",
       "\n",
       "    .dataframe thead th {\n",
       "        text-align: right;\n",
       "    }\n",
       "</style>\n",
       "<table border=\"1\" class=\"dataframe\">\n",
       "  <thead>\n",
       "    <tr style=\"text-align: right;\">\n",
       "      <th></th>\n",
       "      <th>Datum</th>\n",
       "      <th>Product</th>\n",
       "      <th>Aantal * prijs</th>\n",
       "    </tr>\n",
       "  </thead>\n",
       "  <tbody>\n",
       "    <tr>\n",
       "      <th>0</th>\n",
       "      <td>29-09-2022 18:54</td>\n",
       "      <td>Too late - Rush Hour</td>\n",
       "      <td>50.0</td>\n",
       "    </tr>\n",
       "    <tr>\n",
       "      <th>1</th>\n",
       "      <td>29-09-2022 18:54</td>\n",
       "      <td>Shot tequila</td>\n",
       "      <td>9.0</td>\n",
       "    </tr>\n",
       "    <tr>\n",
       "      <th>2</th>\n",
       "      <td>29-09-2022 18:54</td>\n",
       "      <td>Heineken</td>\n",
       "      <td>7.0</td>\n",
       "    </tr>\n",
       "    <tr>\n",
       "      <th>3</th>\n",
       "      <td>29-09-2022 18:54</td>\n",
       "      <td>Recycle munt</td>\n",
       "      <td>5.0</td>\n",
       "    </tr>\n",
       "    <tr>\n",
       "      <th>4</th>\n",
       "      <td>29-09-2022 18:54</td>\n",
       "      <td>Buitenlands mix</td>\n",
       "      <td>8.5</td>\n",
       "    </tr>\n",
       "  </tbody>\n",
       "</table>\n",
       "</div>"
      ],
      "text/plain": [
       "              Datum               Product  Aantal * prijs\n",
       "0  29-09-2022 18:54  Too late - Rush Hour            50.0\n",
       "1  29-09-2022 18:54         Shot tequila              9.0\n",
       "2  29-09-2022 18:54             Heineken              7.0\n",
       "3  29-09-2022 18:54          Recycle munt             5.0\n",
       "4  29-09-2022 18:54       Buitenlands mix             8.5"
      ]
     },
     "execution_count": 5,
     "metadata": {},
     "output_type": "execute_result"
    }
   ],
   "source": [
    "# Remove rows where \"Aantal * prijs\" is negative\n",
    "cleaned_df = merged_df[merged_df[\"Aantal * prijs\"] >= 0]\n",
    "\n",
    "print(\"Cleaned DataFrame preview (no negative 'Aantal * prijs'):\")\n",
    "cleaned_df.head()\n"
   ]
  },
  {
   "cell_type": "code",
   "execution_count": 7,
   "metadata": {},
   "outputs": [
    {
     "name": "stdout",
     "output_type": "stream",
     "text": [
      "Number of missing values:\n",
      "Datum             0\n",
      "Product           0\n",
      "Aantal * prijs    0\n",
      "dtype: int64\n"
     ]
    }
   ],
   "source": [
    "# Check how many missing values each column has\n",
    "print(\"Number of missing values:\")\n",
    "print(cleaned_df.isna().sum())\n"
   ]
  },
  {
   "cell_type": "code",
   "execution_count": 13,
   "metadata": {},
   "outputs": [
    {
     "name": "stdout",
     "output_type": "stream",
     "text": [
      "Cleaned data saved to: /Users/jetzeeveleens/Downloads/merged_cleaned_data.csv\n"
     ]
    }
   ],
   "source": [
    "# Define output path\n",
    "output_path = \"/Users/jetzeeveleens/Downloads/merged_cleaned_data.csv\"\n",
    "\n",
    "# Save to CSV\n",
    "cleaned_df.to_csv(output_path, index=False)\n",
    "\n",
    "print(f\"Cleaned data saved to: {output_path}\")\n"
   ]
  }
 ],
 "metadata": {
  "kernelspec": {
   "display_name": "jupyterbook",
   "language": "python",
   "name": "python3"
  },
  "language_info": {
   "codemirror_mode": {
    "name": "ipython",
    "version": 3
   },
   "file_extension": ".py",
   "mimetype": "text/x-python",
   "name": "python",
   "nbconvert_exporter": "python",
   "pygments_lexer": "ipython3",
   "version": "3.10.14"
  }
 },
 "nbformat": 4,
 "nbformat_minor": 2
}
